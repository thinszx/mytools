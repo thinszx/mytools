{
 "cells": [
  {
   "cell_type": "code",
   "execution_count": 1,
   "metadata": {},
   "outputs": [],
   "source": [
    "import config as cfg"
   ]
  },
  {
   "cell_type": "code",
   "execution_count": 2,
   "metadata": {},
   "outputs": [],
   "source": [
    "import os\n",
    "\n",
    "if not os.path.exists(cfg.EXPORT_DIR):\n",
    "    os.makedirs(cfg.EXPORT_DIR)"
   ]
  },
  {
   "cell_type": "code",
   "execution_count": 3,
   "metadata": {},
   "outputs": [
    {
     "name": "stderr",
     "output_type": "stream",
     "text": [
      " 65%|██████▌   | 73/112 [05:49<03:03,  4.70s/it]"
     ]
    },
    {
     "name": "stdout",
     "output_type": "stream",
     "text": [
      "failed to export task 61\n"
     ]
    },
    {
     "name": "stderr",
     "output_type": "stream",
     "text": [
      " 66%|██████▌   | 74/112 [05:53<02:52,  4.53s/it]"
     ]
    },
    {
     "name": "stdout",
     "output_type": "stream",
     "text": [
      "failed to export task 60\n"
     ]
    },
    {
     "name": "stderr",
     "output_type": "stream",
     "text": [
      " 67%|██████▋   | 75/112 [05:57<02:43,  4.41s/it]"
     ]
    },
    {
     "name": "stdout",
     "output_type": "stream",
     "text": [
      "failed to export task 59\n"
     ]
    },
    {
     "name": "stderr",
     "output_type": "stream",
     "text": [
      " 68%|██████▊   | 76/112 [06:01<02:35,  4.32s/it]"
     ]
    },
    {
     "name": "stdout",
     "output_type": "stream",
     "text": [
      "failed to export task 58\n"
     ]
    },
    {
     "name": "stderr",
     "output_type": "stream",
     "text": [
      "100%|██████████| 112/112 [08:46<00:00,  4.70s/it]\n"
     ]
    }
   ],
   "source": [
    "from cvat_sdk import make_client\n",
    "from cvat_sdk.core.helpers import TqdmProgressReporter # https://github.com/opencv/cvat/blob/develop/cvat-cli/src/cvat_cli/cli.py#L12\n",
    "import tqdm\n",
    "\n",
    "if cfg.SSL:\n",
    "    HOST = f\"https://{cfg.SERVER}\"\n",
    "else:\n",
    "    HOST = f\"http://{cfg.SERVER}\"\n",
    "\n",
    "with make_client(host=HOST, port=f\"{cfg.PORT}\", credentials=(f\"{cfg.USERNAME}\", f\"{cfg.PASSWORD}\")) as client:\n",
    "    tasks = client.tasks.list()\n",
    "    # jobs = client.jobs.list()\n",
    "    for task in tqdm.tqdm(tasks):\n",
    "        # pbar = TqdmProgressReporter(\n",
    "        #         tqdm.tqdm_notebook(unit_scale=True, unit=\"B\", unit_divisor=1024, desc=task.name)\n",
    "        #     )\n",
    "        try:\n",
    "            pbar = None\n",
    "            client.tasks.retrieve(obj_id=task.id).export_dataset(\n",
    "                    format_name=cfg.EXPORT_FORMAT,\n",
    "                    filename=os.path.join(cfg.EXPORT_DIR, f\"{task.id}-{task.name}.zip\"),\n",
    "                    pbar=pbar,\n",
    "                    status_check_period=2,\n",
    "                    include_images=cfg.EXPORT_INCLUDE_IMAGES,\n",
    "                )\n",
    "        except:\n",
    "            print(f\"failed to export task {task.id}\")"
   ]
  },
  {
   "cell_type": "code",
   "execution_count": null,
   "metadata": {},
   "outputs": [],
   "source": []
  }
 ],
 "metadata": {
  "kernelspec": {
   "display_name": "misc",
   "language": "python",
   "name": "python3"
  },
  "language_info": {
   "codemirror_mode": {
    "name": "ipython",
    "version": 3
   },
   "file_extension": ".py",
   "mimetype": "text/x-python",
   "name": "python",
   "nbconvert_exporter": "python",
   "pygments_lexer": "ipython3",
   "version": "3.9.16"
  },
  "orig_nbformat": 4
 },
 "nbformat": 4,
 "nbformat_minor": 2
}
